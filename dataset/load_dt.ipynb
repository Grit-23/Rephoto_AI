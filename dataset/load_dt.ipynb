{
 "cells": [
  {
   "cell_type": "code",
   "execution_count": null,
   "metadata": {
    "vscode": {
     "languageId": "plaintext"
    }
   },
   "outputs": [],
   "source": [
    "pip install -U -q trl bitsandbytes peft hf_xet tensorboard"
   ]
  },
  {
   "cell_type": "code",
   "execution_count": null,
   "metadata": {
    "vscode": {
     "languageId": "plaintext"
    }
   },
   "outputs": [],
   "source": [
    "huggingface-cli login"
   ]
  },
  {
   "cell_type": "code",
   "execution_count": null,
   "metadata": {
    "vscode": {
     "languageId": "plaintext"
    }
   },
   "outputs": [],
   "source": [
    "from datasets import load_dataset\n",
    "\n",
    "dataset_name = \"HuggingFaceH4/llava-instruct-mix-vsft\"\n",
    "\n",
    "# Load Dataset\n",
    "dataset = load_dataset(dataset_name)"
   ]
  },
  {
   "cell_type": "code",
   "execution_count": null,
   "metadata": {},
   "outputs": [],
   "source": [
    "import os\n",
    "import json\n",
    "from PIL import Image\n",
    "import requests\n",
    "from io import BytesIO\n",
    "\n",
    "# Single-image 데이터셋을 로컬 폴더에 저장\n",
    "save_dir = \"./llava_single_image_data\"\n",
    "os.makedirs(save_dir, exist_ok=True)\n",
    "os.makedirs(os.path.join(save_dir, \"images\"), exist_ok=True)\n",
    "\n",
    "print(f\"Dataset info: {dataset}\")\n",
    "print(f\"Keys: {dataset.keys()}\")\n",
    "\n",
    "# 훈련 데이터셋 저장\n",
    "train_dataset = dataset['train']\n",
    "print(f\"Total training samples: {len(train_dataset)}\")\n",
    "\n",
    "# 첫 번째 샘플 구조 확인\n",
    "if len(train_dataset) > 0:\n",
    "    sample = train_dataset[0]\n",
    "    print(f\"Sample keys: {sample.keys()}\")\n",
    "    print(f\"Sample structure: {type(sample)}\")\n",
    "\n",
    "# Single-image 샘플만 필터링하여 저장\n",
    "num_samples_to_save = 500  # 원하는 만큼 조정 가능\n",
    "saved_count = 0\n",
    "metadata = []\n",
    "\n",
    "for i in range(min(num_samples_to_save, len(train_dataset))):\n",
    "    sample = train_dataset[i]\n",
    "    \n",
    "    # Single image 체크 및 저장\n",
    "    if 'image' in sample and sample['image'] is not None:\n",
    "        try:\n",
    "            image = sample['image']\n",
    "            image_filename = f\"image_{saved_count:05d}.jpg\"\n",
    "            image_path = os.path.join(save_dir, \"images\", image_filename)\n",
    "            \n",
    "            # PIL Image로 저장\n",
    "            if hasattr(image, 'save'):\n",
    "                image.save(image_path)\n",
    "                \n",
    "                # 메타데이터 수집\n",
    "                sample_metadata = {\n",
    "                    \"image_filename\": image_filename,\n",
    "                    \"conversations\": sample.get('conversations', []),\n",
    "                    \"original_index\": i\n",
    "                }\n",
    "                metadata.append(sample_metadata)\n",
    "                saved_count += 1\n",
    "                \n",
    "            else:\n",
    "                # URL인 경우 다운로드\n",
    "                if isinstance(image, str) and image.startswith('http'):\n",
    "                    response = requests.get(image)\n",
    "                    img = Image.open(BytesIO(response.content))\n",
    "                    img.save(image_path)\n",
    "                    \n",
    "                    sample_metadata = {\n",
    "                        \"image_filename\": image_filename,\n",
    "                        \"conversations\": sample.get('conversations', []),\n",
    "                        \"original_index\": i\n",
    "                    }\n",
    "                    metadata.append(sample_metadata)\n",
    "                    saved_count += 1\n",
    "                    \n",
    "        except Exception as e:\n",
    "            print(f\"Error saving image {i}: {e}\")\n",
    "    \n",
    "    if i % 50 == 0:\n",
    "        print(f\"Processed {i}/{num_samples_to_save} samples, saved {saved_count} single-image samples\")\n",
    "\n",
    "# 메타데이터를 JSON 파일로 저장\n",
    "metadata_path = os.path.join(save_dir, \"metadata.json\")\n",
    "with open(metadata_path, 'w', encoding='utf-8') as f:\n",
    "    json.dump(metadata, f, ensure_ascii=False, indent=2)\n",
    "\n",
    "print(f\"Single-image 데이터셋 저장 완료!\")\n",
    "print(f\"저장 위치: {save_dir}\")\n",
    "print(f\"이미지 폴더: {os.path.join(save_dir, 'images')}\")\n",
    "print(f\"저장된 single-image 샘플 수: {saved_count}\")\n",
    "print(f\"메타데이터 파일: {metadata_path}\")\n"
   ]
  },
  {
   "cell_type": "code",
   "execution_count": null,
   "metadata": {
    "vscode": {
     "languageId": "plaintext"
    }
   },
   "outputs": [],
   "source": []
  }
 ],
 "metadata": {
  "language_info": {
   "name": "python"
  }
 },
 "nbformat": 4,
 "nbformat_minor": 2
}
